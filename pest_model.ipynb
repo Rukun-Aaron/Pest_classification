{
 "cells": [
  {
   "cell_type": "code",
   "execution_count": 2,
   "metadata": {},
   "outputs": [],
   "source": [
    "import tensorflow as tf\n",
    "import pandas as pd\n",
    "import os"
   ]
  },
  {
   "cell_type": "code",
   "execution_count": 2,
   "metadata": {},
   "outputs": [
    {
     "data": {
      "text/plain": [
       "[PhysicalDevice(name='/physical_device:GPU:0', device_type='GPU')]"
      ]
     },
     "execution_count": 2,
     "metadata": {},
     "output_type": "execute_result"
    }
   ],
   "source": [
    "gpus = tf.config.experimental.list_physical_devices('GPU')\n",
    "gpus"
   ]
  },
  {
   "cell_type": "markdown",
   "metadata": {},
   "source": [
    "### Image Filtering"
   ]
  },
  {
   "cell_type": "code",
   "execution_count": 1,
   "metadata": {},
   "outputs": [],
   "source": [
    "# import shutil\n",
    "# def move_images_with_underscore(src_folder, dest_folder):\n",
    "#     if not os.path.exists(dest_folder):\n",
    "#         os.makedirs(dest_folder)\n",
    "\n",
    "#     # Get the list of filenames in the source folder\n",
    "#     filenames = os.listdir(src_folder)\n",
    "\n",
    "#     for filename in filenames:\n",
    "#         src_path = os.path.join(src_folder, filename)\n",
    "\n",
    "#         # Check if the filename contains an underscore\n",
    "#         if '_' in filename:\n",
    "#             dest_path = os.path.join(dest_folder, filename)\n",
    "\n",
    "#             # Move the file to the img_filtered folder\n",
    "#             shutil.move(src_path, dest_path)\n",
    "#             print(f\"Moved: {filename}\")\n",
    "\n",
    "# path_to_images_folder = \"img_raw\"\n",
    "# img_filtered_folder = \"img_filtered\"\n",
    "\n",
    "# move_images_with_underscore(path_to_images_folder, img_filtered_folder)"
   ]
  },
  {
   "cell_type": "code",
   "execution_count": 8,
   "metadata": {},
   "outputs": [
    {
     "name": "stdout",
     "output_type": "stream",
     "text": [
      "14\n"
     ]
    }
   ],
   "source": [
    "image_dataset = pd.read_csv('fruitfly_annotationfile.csv')\n",
    "image_dataset.head()\n",
    "\n",
    "# unique_full_names = image_dataset['fullName'].unique()\n",
    "# unique_full_names2 = image_dataset['fullName2'].unique()\n",
    "unique_full_names3 = image_dataset['fullName3'].unique()\n",
    "labels = unique_full_names3"
   ]
  }
 ],
 "metadata": {
  "kernelspec": {
   "display_name": "cap",
   "language": "python",
   "name": "python3"
  },
  "language_info": {
   "codemirror_mode": {
    "name": "ipython",
    "version": 3
   },
   "file_extension": ".py",
   "mimetype": "text/x-python",
   "name": "python",
   "nbconvert_exporter": "python",
   "pygments_lexer": "ipython3",
   "version": "3.9.17"
  },
  "orig_nbformat": 4
 },
 "nbformat": 4,
 "nbformat_minor": 2
}
